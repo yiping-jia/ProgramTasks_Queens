{
 "cells": [
  {
   "cell_type": "code",
   "execution_count": 19,
   "metadata": {},
   "outputs": [],
   "source": [
    "import numpy as np\n",
    "from matplotlib import pyplot as plt"
   ]
  },
  {
   "cell_type": "code",
   "execution_count": 163,
   "metadata": {},
   "outputs": [],
   "source": [
    "def plot_map(mymap,title=\"mymap\",label = None):\n",
    "    plt.imshow(mymap,cmap = \"tab20c\")\n",
    "    plt.title(title)\n",
    "    plt.hlines(np.linspace(0.5,mymap.shape[0]-0.5,mymap.shape[0]),0-0.5,mymap.shape[1]-0.5,color = [0,0,0])\n",
    "    plt.vlines(np.linspace(0.5,mymap.shape[1]-0.5,mymap.shape[1]),0-0.5,mymap.shape[0]-0.5,color = [0,0,0])\n",
    "    if type(label)!=type(None):\n",
    "        for i in range(label.shape[0]):\n",
    "            for j in range(label.shape[1]):\n",
    "                if label[i,j]!=0:\n",
    "                    plt.text(j,i,str(int(label[i,j])))\n",
    "    plt.show()\n",
    "def generate_map(x,y):\n",
    "    mymap = np.round(np.random.random_sample((x,y)))\n",
    "    return mymap"
   ]
  },
  {
   "cell_type": "code",
   "execution_count": 164,
   "metadata": {},
   "outputs": [
    {
     "name": "stdout",
     "output_type": "stream",
     "text": [
      "[[1. 0. 1. 0. 0. 1. 0. 0. 1. 1. 0. 1. 1. 1. 1.]\n",
      " [0. 0. 1. 1. 0. 0. 0. 0. 0. 0. 1. 1. 1. 1. 1.]\n",
      " [0. 0. 1. 0. 1. 1. 0. 0. 0. 1. 1. 1. 0. 0. 1.]\n",
      " [0. 0. 0. 1. 1. 0. 0. 1. 1. 0. 0. 1. 1. 1. 1.]\n",
      " [0. 1. 0. 0. 0. 1. 1. 1. 0. 1. 1. 1. 0. 0. 1.]\n",
      " [0. 1. 1. 0. 1. 1. 0. 1. 1. 1. 0. 1. 0. 0. 1.]\n",
      " [1. 0. 1. 1. 1. 0. 1. 0. 0. 0. 0. 0. 0. 0. 0.]\n",
      " [1. 0. 0. 1. 1. 1. 0. 1. 1. 0. 0. 0. 1. 1. 1.]\n",
      " [1. 0. 1. 0. 0. 1. 1. 1. 1. 1. 1. 1. 1. 1. 1.]\n",
      " [1. 1. 0. 1. 1. 1. 0. 0. 0. 1. 0. 1. 1. 1. 0.]]\n"
     ]
    },
    {
     "data": {
      "image/png": "[encoded data removed]",
      "text/plain": [
       "<Figure size 432x288 with 1 Axes>"
      ]
     },
     "metadata": {
      "needs_background": "light"
     },
     "output_type": "display_data"
    }
   ],
   "source": [
    "mymap = generate_map(10,15)\n",
    "print(mymap)\n",
    "plot_map(mymap,\"generated map\")"
   ]
  },
  {
   "cell_type": "markdown",
   "metadata": {},
   "source": [
    "The time complexity will be $O(W\\bullet H)$ where W and H are the width and height of the map.<br>\n",
    "The memory complexity of this method will be $O(W)$.<br> \n",
    "However, in order to draw the final result, I will keep all the lines in memory. So the memory usage here will be $O(W\\bullet H)$ as well."
   ]
  },
  {
   "cell_type": "code",
   "execution_count": 180,
   "metadata": {},
   "outputs": [],
   "source": [
    "def count_lake(mymap):\n",
    "    labeled_map = np.zeros(mymap.shape)\n",
    "    mymap = np.pad(mymap,1,constant_values=1)\n",
    "    prev_marking = np.zeros(mymap.shape[1])\n",
    "    n_lakes = 0\n",
    "    merge=dict()\n",
    "    for i in range(mymap.shape[0]-2):\n",
    "        this_marking = np.zeros(mymap.shape[1])\n",
    "        for j in range(mymap.shape[1]-2):\n",
    "            if mymap[i+1,j+1]==0:\n",
    "                for item in [prev_marking[j],prev_marking[j+1],prev_marking[j+2],this_marking[j]]:\n",
    "                    if item in merge:\n",
    "                        item = merge[item]\n",
    "                    if item!=this_marking[j+1] and item!=0:\n",
    "                        if this_marking[j+1]==0:\n",
    "                            this_marking[j+1]=item\n",
    "                        else:\n",
    "                            merge[item] = this_marking[j+1]\n",
    "                if this_marking[j+1]==0:\n",
    "                    n_lakes +=1\n",
    "                    this_marking[j+1]=n_lakes\n",
    "        prev_marking = this_marking\n",
    "        labeled_map[i]=prev_marking[1:-1]\n",
    "\n",
    "    return n_lakes-len(merge), labeled_map,merge"
   ]
  },
  {
   "cell_type": "code",
   "execution_count": 181,
   "metadata": {},
   "outputs": [],
   "source": [
    "count, labeledmap, merge =count_lake(mymap)"
   ]
  },
  {
   "cell_type": "code",
   "execution_count": 182,
   "metadata": {},
   "outputs": [
    {
     "data": {
      "text/plain": [
       "6"
      ]
     },
     "execution_count": 182,
     "metadata": {},
     "output_type": "execute_result"
    }
   ],
   "source": [
    "count"
   ]
  },
  {
   "cell_type": "code",
   "execution_count": 159,
   "metadata": {},
   "outputs": [],
   "source": [
    "def final_class(i,merge_dict):\n",
    "    if i in merge_dict:\n",
    "        return final_class(merge_dict[i],merge_dict)\n",
    "    else:\n",
    "        return i\n",
    "def relabel(input_map,merge_dict):\n",
    "    label_dict = dict()\n",
    "    n_lakes = 0\n",
    "    output_map = np.zeros(input_map.shape)\n",
    "    for i in range(input_map.shape[0]):\n",
    "        for j in range(input_map.shape[1]):\n",
    "            if input_map[i,j]!=0:\n",
    "                fc = final_class(input_map[i,j],merge_dict)\n",
    "                if fc in label_dict:\n",
    "                    output_map[i,j] = label_dict[fc]\n",
    "                else:\n",
    "                    n_lakes+=1\n",
    "                    label_dict[fc] = n_lakes\n",
    "                    output_map[i,j] = n_lakes\n",
    "    return output_map"
   ]
  },
  {
   "cell_type": "code",
   "execution_count": 183,
   "metadata": {},
   "outputs": [],
   "source": [
    "relabeled = relabel(labeledmap,merge)"
   ]
  },
  {
   "cell_type": "code",
   "execution_count": 184,
   "metadata": {},
   "outputs": [
    {
     "data": {
      "image/png": "[encoded data removed]",
      "text/plain": [
       "<Figure size 432x288 with 1 Axes>"
      ]
     },
     "metadata": {
      "needs_background": "light"
     },
     "output_type": "display_data"
    }
   ],
   "source": [
    "plot_map(mymap,\"labeled map\",relabeled)"
   ]
  },
  {
   "cell_type": "code",
   "execution_count": null,
   "metadata": {},
   "outputs": [],
   "source": []
  }
 ],
 "metadata": {
  "kernelspec": {
   "display_name": "Python 3",
   "language": "python",
   "name": "python3"
  },
  "language_info": {
   "codemirror_mode": {
    "name": "ipython",
    "version": 3
   },
   "file_extension": ".py",
   "mimetype": "text/x-python",
   "name": "python",
   "nbconvert_exporter": "python",
   "pygments_lexer": "ipython3",
   "version": "3.6.9"
  }
 },
 "nbformat": 4,
 "nbformat_minor": 4
}
