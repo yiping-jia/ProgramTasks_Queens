{
 "cells": [
  {
   "cell_type": "markdown",
   "metadata": {},
   "source": [
    "# Count of Lakes\n",
    "\n",
    "## preparing the matrix"
   ]
  },
  {
   "cell_type": "code",
   "execution_count": 1,
   "metadata": {},
   "outputs": [],
   "source": [
    "import numpy as np\n",
    "from matplotlib import pyplot as plt"
   ]
  },
  {
   "cell_type": "code",
   "execution_count": 2,
   "metadata": {},
   "outputs": [],
   "source": [
    "# a function to plot the map\n",
    "def plot_map(mymap,title=\"mymap\",label = None):\n",
    "    # plot the map with tab20c colormap and set the title\n",
    "    plt.imshow(mymap,cmap = \"tab20c\")\n",
    "    plt.title(title)\n",
    "    \n",
    "    # add seperating lines between pixels\n",
    "    plt.hlines(np.linspace(0.5,mymap.shape[0]-0.5,mymap.shape[0]),0-0.5,mymap.shape[1]-0.5,color = [0,0,0])\n",
    "    plt.vlines(np.linspace(0.5,mymap.shape[1]-0.5,mymap.shape[1]),0-0.5,mymap.shape[0]-0.5,color = [0,0,0])\n",
    "    \n",
    "    # if the map is labeled, plot the non-zero labels\n",
    "    if type(label)!=type(None):\n",
    "        for i in range(label.shape[0]):\n",
    "            for j in range(label.shape[1]):\n",
    "                if label[i,j]!=0:\n",
    "                    plt.text(j,i,str(int(label[i,j])))\n",
    "                    \n",
    "    # show the image\n",
    "    plt.show()\n",
    "    \n",
    "# a method to randomly generate a x*y map\n",
    "def generate_map(x,y):\n",
    "    mymap = np.round(np.random.random_sample((x,y)))\n",
    "    return mymap"
   ]
  },
  {
   "cell_type": "markdown",
   "metadata": {},
   "source": [
    "Now we can generate a 10*10 matrix and plot it using the defined functions:"
   ]
  },
  {
   "cell_type": "code",
   "execution_count": 38,
   "metadata": {},
   "outputs": [
    {
     "name": "stdout",
     "output_type": "stream",
     "text": [
      "[[0. 0. 1. 1. 1. 1. 1. 1. 1. 1.]\n",
      " [0. 0. 1. 1. 0. 0. 1. 0. 0. 1.]\n",
      " [1. 1. 1. 0. 1. 0. 1. 1. 0. 1.]\n",
      " [0. 1. 0. 1. 0. 0. 1. 1. 1. 1.]\n",
      " [0. 0. 0. 0. 1. 0. 1. 0. 1. 1.]\n",
      " [0. 0. 0. 1. 1. 0. 1. 0. 1. 0.]\n",
      " [1. 1. 0. 1. 0. 0. 1. 1. 1. 1.]\n",
      " [0. 1. 1. 0. 1. 1. 0. 0. 0. 1.]\n",
      " [0. 0. 1. 1. 0. 0. 1. 1. 1. 1.]\n",
      " [0. 1. 1. 1. 0. 1. 1. 0. 0. 0.]]\n"
     ]
    },
    {
     "data": {
      "image/png": "[encoded data removed]",
      "text/plain": [
       "<Figure size 432x288 with 1 Axes>"
      ]
     },
     "metadata": {
      "needs_background": "light"
     },
     "output_type": "display_data"
    }
   ],
   "source": [
    "mymap = generate_map(10,10)\n",
    "print(mymap)\n",
    "plot_map(mymap,\"generated map\")"
   ]
  },
  {
   "cell_type": "markdown",
   "metadata": {},
   "source": [
    "## count the lakes:\n",
    "The time complexity will be $O(W\\bullet H)$ where W and H are the width and height of the map.<br>\n",
    "The memory complexity of this method will be $O(W)$.<br> \n",
    "However, in order to draw the final result, I will keep all the lines in memory. So the memory usage here will be $O(W\\bullet H)$ as well."
   ]
  },
  {
   "cell_type": "code",
   "execution_count": 24,
   "metadata": {},
   "outputs": [],
   "source": [
    "# a function that takes a label of lake and a dictionary to merge lakes, returns the label of the lake after merging\n",
    "def final_class(i,merge_dict):\n",
    "    if i in merge_dict:\n",
    "        return final_class(merge_dict[i],merge_dict)\n",
    "    else:\n",
    "        return i\n",
    "\n",
    "# This is a function to relabel the map according to the merging information\n",
    "def relabel(input_map,merge_dict):\n",
    "    label_dict = dict()\n",
    "    n_lakes = 0\n",
    "    output_map = np.zeros(input_map.shape)\n",
    "    for i in range(input_map.shape[0]):\n",
    "        for j in range(input_map.shape[1]):\n",
    "            if input_map[i,j]!=0:\n",
    "                fc = final_class(input_map[i,j],merge_dict)\n",
    "                if fc in label_dict:\n",
    "                    output_map[i,j] = label_dict[fc]\n",
    "                else:\n",
    "                    n_lakes+=1\n",
    "                    label_dict[fc] = n_lakes\n",
    "                    output_map[i,j] = n_lakes\n",
    "    return output_map    \n",
    "    \n",
    "# a function to count the lakes, returns the number of lake and a relabeled map\n",
    "def count_lake(mymap):\n",
    "    \n",
    "    # a labeled map. This is used to draw the result and is not necessary for counting\n",
    "    labeled_map = np.zeros(mymap.shape)\n",
    "    \n",
    "    # pad the map with land to make counting easier\n",
    "    mymap = np.pad(mymap,1,constant_values=1,mode='constant')\n",
    "    \n",
    "    # here we maintain a variable to restore the labeled previous line\n",
    "    prev_marking = np.zeros(mymap.shape[1])\n",
    "    \n",
    "    # the number of new lakes\n",
    "    n_lakes = 0\n",
    "    \n",
    "    # a dictionary to restore the merging information. It can be maintained to have less than 5 elements.\n",
    "    # However, to draw the final result,\n",
    "    merge=dict()\n",
    "    \n",
    "    for i in range(mymap.shape[0]-2):\n",
    "        \n",
    "        # a variable to label the ith line\n",
    "        this_marking = np.zeros(mymap.shape[1])\n",
    "        \n",
    "        for j in range(mymap.shape[1]-2):\n",
    "            \n",
    "            # for each new element, if it is a lake\n",
    "            if mymap[i+1,j+1]==0:\n",
    "                \n",
    "                # for each previously labeled adjacent item\n",
    "                for item in [prev_marking[j],prev_marking[j+1],prev_marking[j+2],this_marking[j]]:\n",
    "                    item = final_class(item,merge)\n",
    "                    \n",
    "                    #if it is a different lake, \n",
    "                    #label the new element if it is 0, otherwise merge the two lakes and restore them into the dict\n",
    "                    if item!=this_marking[j+1] and item!=0:\n",
    "                        if this_marking[j+1]==0:\n",
    "                            this_marking[j+1]=item\n",
    "                        else:\n",
    "                            merge[item] = this_marking[j+1]\n",
    "                \n",
    "                # if there's no previously labeled adjacent lake, label this as a new lake\n",
    "                if this_marking[j+1]==0:\n",
    "                    n_lakes +=1\n",
    "                    this_marking[j+1]=n_lakes\n",
    "        \n",
    "        #prepare for new line\n",
    "        prev_marking = this_marking\n",
    "        labeled_map[i]=prev_marking[1:-1]\n",
    "\n",
    "    n_lakes-=len(merge)\n",
    "    relabeled_map = relabel(labeled_map,merge)\n",
    "    \n",
    "    return n_lakes,relabeled_map"
   ]
  },
  {
   "cell_type": "code",
   "execution_count": 39,
   "metadata": {},
   "outputs": [
    {
     "name": "stdout",
     "output_type": "stream",
     "text": [
      "The number of Lakes: 7\n",
      "The labeled map:\n",
      " [[1. 1. 0. 0. 0. 0. 0. 0. 0. 0.]\n",
      " [1. 1. 0. 0. 2. 2. 0. 3. 3. 0.]\n",
      " [0. 0. 0. 2. 0. 2. 0. 0. 3. 0.]\n",
      " [2. 0. 2. 0. 2. 2. 0. 0. 0. 0.]\n",
      " [2. 2. 2. 2. 0. 2. 0. 4. 0. 0.]\n",
      " [2. 2. 2. 0. 0. 2. 0. 4. 0. 5.]\n",
      " [0. 0. 2. 0. 2. 2. 0. 0. 0. 0.]\n",
      " [6. 0. 0. 2. 0. 0. 2. 2. 2. 0.]\n",
      " [6. 6. 0. 0. 2. 2. 0. 0. 0. 0.]\n",
      " [6. 0. 0. 0. 2. 0. 0. 7. 7. 7.]]\n"
     ]
    }
   ],
   "source": [
    "count, labeledmap =count_lake(mymap)\n",
    "\n",
    "print(\"The number of Lakes:\",count)\n",
    "\n",
    "print(\"The labeled map:\\n\",labeledmap)\n"
   ]
  },
  {
   "cell_type": "markdown",
   "metadata": {},
   "source": [
    "## Draw the labeled map"
   ]
  },
  {
   "cell_type": "code",
   "execution_count": 40,
   "metadata": {},
   "outputs": [
    {
     "data": {
      "image/png": "[encoded data removed]",
      "text/plain": [
       "<Figure size 432x288 with 1 Axes>"
      ]
     },
     "metadata": {
      "needs_background": "light"
     },
     "output_type": "display_data"
    }
   ],
   "source": [
    "plot_map(mymap,\"labeled map\",labeledmap)"
   ]
  },
  {
   "cell_type": "code",
   "execution_count": null,
   "metadata": {},
   "outputs": [],
   "source": []
  }
 ],
 "metadata": {
  "kernelspec": {
   "display_name": "Python 3",
   "language": "python",
   "name": "python3"
  },
  "language_info": {
   "codemirror_mode": {
    "name": "ipython",
    "version": 3
   },
   "file_extension": ".py",
   "mimetype": "text/x-python",
   "name": "python",
   "nbconvert_exporter": "python",
   "pygments_lexer": "ipython3",
   "version": "3.6.9"
  }
 },
 "nbformat": 4,
 "nbformat_minor": 4
}
